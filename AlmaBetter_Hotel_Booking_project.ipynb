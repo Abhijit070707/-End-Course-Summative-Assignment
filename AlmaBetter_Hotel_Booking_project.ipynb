{
  "nbformat": 4,
  "nbformat_minor": 0,
  "metadata": {
    "colab": {
      "private_outputs": true,
      "provenance": [],
      "collapsed_sections": [
        "vncDsAP0Gaoa",
        "FJNUwmbgGyua",
        "w6K7xa23Elo4",
        "yQaldy8SH6Dl",
        "mDgbUHAGgjLW",
        "O_i_v8NEhb9l",
        "HhfV-JJviCcP",
        "Y3lxredqlCYt",
        "3RnN4peoiCZX",
        "x71ZqKXriCWQ",
        "7hBIi_osiCS2",
        "JlHwYmJAmNHm",
        "35m5QtbWiB9F",
        "PoPl-ycgm1ru",
        "H0kj-8xxnORC",
        "nA9Y7ga8ng1Z",
        "PBTbrJXOngz2",
        "u3PMJOP6ngxN",
        "dauF4eBmngu3",
        "bKJF3rekwFvQ",
        "MSa1f5Uengrz",
        "GF8Ens_Soomf",
        "0wOQAZs5pc--",
        "K5QZ13OEpz2H",
        "lQ7QKXXCp7Bj",
        "448CDAPjqfQr",
        "KSlN3yHqYklG",
        "t6dVpIINYklI",
        "ijmpgYnKYklI",
        "-JiQyfWJYklI",
        "EM7whBJCYoAo",
        "fge-S5ZAYoAp",
        "85gYPyotYoAp",
        "RoGjAbkUYoAp",
        "4Of9eVA-YrdM",
        "iky9q4vBYrdO",
        "F6T5p64dYrdO",
        "y-Ehk30pYrdP",
        "bamQiAODYuh1",
        "QHF8YVU7Yuh3",
        "GwzvFGzlYuh3",
        "qYpmQ266Yuh3",
        "OH-pJp9IphqM",
        "bbFf2-_FphqN",
        "_ouA3fa0phqN",
        "Seke61FWphqN",
        "PIIx-8_IphqN",
        "t27r6nlMphqO",
        "r2jJGEOYphqO",
        "b0JNsNcRphqO",
        "BZR9WyysphqO",
        "jj7wYXLtphqO",
        "eZrbJ2SmphqO",
        "rFu4xreNphqO",
        "YJ55k-q6phqO",
        "gCFgpxoyphqP",
        "OVtJsKN_phqQ",
        "lssrdh5qphqQ",
        "U2RJ9gkRphqQ",
        "1M8mcRywphqQ",
        "tgIPom80phqQ",
        "JMzcOPDDphqR",
        "x-EpHcCOp1ci",
        "X_VqEhTip1ck",
        "8zGJKyg5p1ck",
        "PVzmfK_Ep1ck",
        "n3dbpmDWp1ck",
        "ylSl6qgtp1ck",
        "ZWILFDl5p1ck",
        "M7G43BXep1ck",
        "Ag9LCva-p1cl",
        "E6MkPsBcp1cl",
        "2cELzS2fp1cl",
        "3MPXvC8up1cl",
        "NC_X3p0fY2L0",
        "UV0SzAkaZNRQ",
        "YPEH6qLeZNRQ",
        "q29F0dvdveiT",
        "EXh0U9oCveiU",
        "22aHeOlLveiV",
        "g-ATYxFrGrvw",
        "Yfr_Vlr8HBkt",
        "8yEUt7NnHlrM",
        "tEA2Xm5dHt1r",
        "I79__PHVH19G",
        "Ou-I18pAyIpj",
        "fF3858GYyt-u",
        "4_0_7-oCpUZd",
        "hwyV_J3ipUZe",
        "3yB-zSqbpUZe",
        "dEUvejAfpUZe",
        "Fd15vwWVpUZf",
        "bn_IUdTipZyH",
        "49K5P_iCpZyH",
        "Nff-vKELpZyI",
        "kLW572S8pZyI",
        "dWbDXHzopZyI",
        "yLjJCtPM0KBk",
        "xiyOF9F70UgQ",
        "7wuGOrhz0itI",
        "id1riN9m0vUs",
        "578E2V7j08f6",
        "89xtkJwZ18nB",
        "67NQN5KX2AMe",
        "Iwf50b-R2tYG",
        "GMQiZwjn3iu7",
        "WVIkgGqN3qsr",
        "XkPnILGE3zoT",
        "Hlsf0x5436Go",
        "mT9DMSJo4nBL",
        "c49ITxTc407N",
        "OeJFEK0N496M",
        "9ExmJH0g5HBk",
        "cJNqERVU536h",
        "k5UmGsbsOxih",
        "T0VqWOYE6DLQ",
        "qBMux9mC6MCf",
        "-oLEiFgy-5Pf",
        "C74aWNz2AliB",
        "2DejudWSA-a0",
        "pEMng2IbBLp7",
        "rAdphbQ9Bhjc",
        "TNVZ9zx19K6k",
        "nqoHp30x9hH9",
        "rMDnDkt2B6du",
        "yiiVWRdJDDil",
        "1UUpS68QDMuG",
        "kexQrXU-DjzY",
        "T5CmagL3EC8N",
        "BhH2vgX9EjGr",
        "qjKvONjwE8ra",
        "P1XJ9OREExlT",
        "VFOzZv6IFROw",
        "TIqpNgepFxVj",
        "VfCC591jGiD4",
        "OB4l2ZhMeS1U",
        "ArJBuiUVfxKd",
        "4qY1EAkEfxKe",
        "PiV4Ypx8fxKe",
        "TfvqoZmBfxKf",
        "dJ2tPlVmpsJ0",
        "JWYfwnehpsJ1",
        "-jK_YjpMpsJ2",
        "HAih1iBOpsJ2",
        "zVGeBEFhpsJ2",
        "bmKjuQ-FpsJ3",
        "Fze-IPXLpx6K",
        "7AN1z2sKpx6M",
        "9PIHJqyupx6M",
        "_-qAgymDpx6N",
        "Z-hykwinpx6N",
        "h_CCil-SKHpo",
        "cBFFvTBNJzUa",
        "HvGl1hHyA_VK",
        "EyNgTHvd2WFk",
        "KH5McJBi2d8v",
        "iW_Lq9qf2h6X",
        "-Kee-DAl2viO",
        "gCX9965dhzqZ",
        "gIfDvo9L0UH2"
      ],
      "include_colab_link": true
    },
    "kernelspec": {
      "name": "python3",
      "display_name": "Python 3"
    },
    "language_info": {
      "name": "python"
    }
  },
  "cells": [
    {
      "cell_type": "markdown",
      "metadata": {
        "id": "view-in-github",
        "colab_type": "text"
      },
      "source": [
        "<a href=\"https://colab.research.google.com/github/Abhijit070707/-End-Course-Summative-Assignment/blob/main/AlmaBetter_Hotel_Booking_project.ipynb\" target=\"_parent\"><img src=\"https://colab.research.google.com/assets/colab-badge.svg\" alt=\"Open In Colab\"/></a>"
      ]
    },
    {
      "cell_type": "markdown",
      "source": [
        "# **Project Name**    -  **HOTEL BOOKING PROJECT**\n",
        "\n"
      ],
      "metadata": {
        "id": "vncDsAP0Gaoa"
      }
    },
    {
      "cell_type": "markdown",
      "source": [
        "# **Project Summary -**"
      ],
      "metadata": {
        "id": "FJNUwmbgGyua"
      }
    },
    {
      "cell_type": "markdown",
      "source": [
        "Almabetter Hotel Booking Project Using Python ||Hotel booking analysis with AlmaBetter This project relates to hotel reservations and includes a variety of city hotels and resort hotels. There are 32 columns and total 119390 rows in this dataset. Data collection, data cleaning and manipulation, and EDA (experimental Data Analysis) are the three categories Into which the workflow for data manipulation is divided. The names of some of the columns, including hotel, is_canceled, lead_time, arrival_date_year, arrival_date_month, amival_date_week_number, arrival_date_day_of_month, and stays_in_weekend_nights, have been updated as the data collection process has progressed. This is done by coding Head(), Tail(), info(), describe(), columns(), and other methods used for data collection. As we proceed, we Identify the distinct value for each column, create a list in tabular format, and also verify the dataset type for each column. Identify some columns with inaccurate data types and fox them afterward. As we discover duplicate items totaling 87396, which are later discarded from the dataset, duplicate data items must also be removed during the data cleaning phase.\n",
        "\n",
        "We must first perform data manipulation before visualizing any data from the data source. To do that, we examined each column's null value. After checking, drap the column using the 'drop' method if we find one that has a greater percentage of null values. We are so removed from the \"company\" column. When there are only a few null values, we fill those null values with the necessary values using the formula. fill() To achieve greater understanding and business goals, many charts are utilized for data visualization\n",
        "\n"
      ],
      "metadata": {
        "id": "F6v_1wHtG2nS"
      }
    },
    {
      "cell_type": "markdown",
      "source": [
        "# **GitHub Link -**"
      ],
      "metadata": {
        "id": "w6K7xa23Elo4"
      }
    },
    {
      "cell_type": "markdown",
      "source": [
        "Provide your GitHub Link here."
      ],
      "metadata": {
        "id": "h1o69JH3Eqqn"
      }
    },
    {
      "cell_type": "markdown",
      "source": [
        "# **Problem Statement**\n"
      ],
      "metadata": {
        "id": "yQaldy8SH6Dl"
      }
    },
    {
      "cell_type": "markdown",
      "source": [
        "By using the data we can draw a conclusions between \"city hotel\" & \"resort hotel\" , as well as details like the date of reservation was made, the duration of staying , the number of adults, kids, and the number of parking spaces that are available. The data is devoid of any information that may be used to identify a specific person. Investigate and evaluate the Information to find crucial elements that control reservations."
      ],
      "metadata": {
        "id": "DpeJGUA3kjGy"
      }
    },
    {
      "cell_type": "markdown",
      "source": [
        "# **General Guidelines** : -  "
      ],
      "metadata": {
        "id": "mDgbUHAGgjLW"
      }
    },
    {
      "cell_type": "markdown",
      "source": [
        "1.   Well-structured, formatted, and commented code is required.\n",
        "2.   Exception Handling, Production Grade Code & Deployment Ready Code will be a plus. Those students will be awarded some additional credits.\n",
        "     \n",
        "     The additional credits will have advantages over other students during Star Student selection.\n",
        "       \n",
        "             [ Note: - Deployment Ready Code is defined as, the whole .ipynb notebook should be executable in one go\n",
        "                       without a single error logged. ]\n",
        "\n",
        "3.   Each and every logic should have proper comments.\n",
        "4. You may add as many number of charts you want. Make Sure for each and every chart the following format should be answered.\n",
        "        \n",
        "\n",
        "```\n",
        "# Chart visualization code\n",
        "```\n",
        "            \n",
        "\n",
        "*   Why did you pick the specific chart?\n",
        "*   What is/are the insight(s) found from the chart?\n",
        "* Will the gained insights help creating a positive business impact?\n",
        "Are there any insights that lead to negative growth? Justify with specific reason.\n",
        "\n",
        "5. You have to create at least 15 logical & meaningful charts having important insights.\n",
        "\n",
        "\n",
        "[ Hints : - Do the Vizualization in  a structured way while following \"UBM\" Rule.\n",
        "\n",
        "U - Univariate Analysis,\n",
        "\n",
        "B - Bivariate Analysis (Numerical - Categorical, Numerical - Numerical, Categorical - Categorical)\n",
        "\n",
        "M - Multivariate Analysis\n",
        " ]\n",
        "\n",
        "\n",
        "\n",
        "\n",
        "\n",
        "6. You may add more ml algorithms for model creation. Make sure for each and every algorithm, the following format should be answered.\n",
        "\n",
        "\n",
        "*   Explain the ML Model used and it's performance using Evaluation metric Score Chart.\n",
        "\n",
        "\n",
        "*   Cross- Validation & Hyperparameter Tuning\n",
        "\n",
        "*   Have you seen any improvement? Note down the improvement with updates Evaluation metric Score Chart.\n",
        "\n",
        "*   Explain each evaluation metric's indication towards business and the business impact pf the ML model used.\n",
        "\n",
        "\n",
        "\n",
        "\n",
        "\n",
        "\n",
        "\n",
        "\n",
        "\n",
        "\n",
        "\n",
        "\n",
        "\n",
        "\n",
        "\n",
        "\n",
        "\n",
        "\n"
      ],
      "metadata": {
        "id": "ZrxVaUj-hHfC"
      }
    },
    {
      "cell_type": "markdown",
      "source": [
        "# ***Let's Begin !***"
      ],
      "metadata": {
        "id": "O_i_v8NEhb9l"
      }
    },
    {
      "cell_type": "markdown",
      "source": [
        "## ***1. Know Your Data***"
      ],
      "metadata": {
        "id": "HhfV-JJviCcP"
      }
    },
    {
      "cell_type": "markdown",
      "source": [
        "### Import Libraries"
      ],
      "metadata": {
        "id": "Y3lxredqlCYt"
      }
    },
    {
      "cell_type": "code",
      "source": [
        "# Import Libraries\n",
        "import numpy as np\n",
        "import pandas as pd\n",
        "import matplotlib.pyplot as plt\n",
        "%matplotlib inline"
      ],
      "metadata": {
        "id": "M8Vqi-pPk-HR"
      },
      "execution_count": null,
      "outputs": []
    },
    {
      "cell_type": "code",
      "source": [
        "pip install seaborn"
      ],
      "metadata": {
        "id": "bHHpvKCR1j3v"
      },
      "execution_count": null,
      "outputs": []
    },
    {
      "cell_type": "code",
      "source": [
        "pip install os-sys"
      ],
      "metadata": {
        "id": "rGhyYtx-1sG3"
      },
      "execution_count": null,
      "outputs": []
    },
    {
      "cell_type": "code",
      "source": [
        "from datetime import datetime\n",
        "import seaborn as sns\n",
        "import ast\n"
      ],
      "metadata": {
        "id": "IwwmNIOn1y8A"
      },
      "execution_count": null,
      "outputs": []
    },
    {
      "cell_type": "markdown",
      "source": [
        "### Dataset Loading"
      ],
      "metadata": {
        "id": "3RnN4peoiCZX"
      }
    },
    {
      "cell_type": "code",
      "source": [
        "from google.colab import drive\n",
        "drive.mount('/content/drive')"
      ],
      "metadata": {
        "id": "4CkvbW_SlZ_R"
      },
      "execution_count": null,
      "outputs": []
    },
    {
      "cell_type": "code",
      "source": [
        "dataset = \"/content/drive/MyDrive/Hotel Bookings.csv\"\n",
        "hotel_dataset = pd.read_csv(dataset)\n",
        "\n"
      ],
      "metadata": {
        "id": "5UHkw3XM2P7Z"
      },
      "execution_count": null,
      "outputs": []
    },
    {
      "cell_type": "markdown",
      "source": [
        "### Dataset First View"
      ],
      "metadata": {
        "id": "x71ZqKXriCWQ"
      }
    },
    {
      "cell_type": "code",
      "source": [
        "# Dataset First Look\n",
        "hotel_dataset"
      ],
      "metadata": {
        "id": "LWNFOSvLl09H"
      },
      "execution_count": null,
      "outputs": []
    },
    {
      "cell_type": "markdown",
      "source": [
        "### Dataset Rows & Columns count"
      ],
      "metadata": {
        "id": "7hBIi_osiCS2"
      }
    },
    {
      "cell_type": "code",
      "source": [
        "# Dataset Rows & Columns count\n",
        "print(hotel_dataset.index)\n",
        "print('\\n \\n')\n",
        "print(hotel_dataset.columns)\n"
      ],
      "metadata": {
        "id": "Kllu7SJgmLij"
      },
      "execution_count": null,
      "outputs": []
    },
    {
      "cell_type": "markdown",
      "source": [
        "### Dataset Information"
      ],
      "metadata": {
        "id": "JlHwYmJAmNHm"
      }
    },
    {
      "cell_type": "code",
      "source": [
        "# Dataset Info\n",
        "\n",
        "hotel_dataset.info()"
      ],
      "metadata": {
        "id": "e9hRXRi6meOf"
      },
      "execution_count": null,
      "outputs": []
    },
    {
      "cell_type": "markdown",
      "source": [
        "#### Duplicate Values"
      ],
      "metadata": {
        "id": "35m5QtbWiB9F"
      }
    },
    {
      "cell_type": "code",
      "source": [
        "## Dataset Duplicate Value Count\n",
        "duplicate_count = hotel_dataset.duplicated().sum()\n",
        "duplicate_count\n"
      ],
      "metadata": {
        "id": "1sLdpKYkmox0"
      },
      "execution_count": null,
      "outputs": []
    },
    {
      "cell_type": "code",
      "source": [
        "# Dataset Duplicate Value Print\n",
        "duplicate_rows = hotel_dataset[hotel_dataset.duplicated()]\n",
        "duplicate_rows\n"
      ],
      "metadata": {
        "id": "8ZFhu-yf5e9G"
      },
      "execution_count": null,
      "outputs": []
    },
    {
      "cell_type": "code",
      "source": [
        "#Delete the duplicates values\n",
        "hotel_dataset.drop_duplicates(inplace =True )\n",
        "\n",
        "#Print the orginal number of rows\n",
        "unique_data = hotel_dataset.shape[0]\n",
        "print(unique_data)\n"
      ],
      "metadata": {
        "id": "yE-L4X5d5KHR"
      },
      "execution_count": null,
      "outputs": []
    },
    {
      "cell_type": "code",
      "source": [
        "#Print the actual dataset\n",
        "hotel_dataset.reset_index()"
      ],
      "metadata": {
        "id": "wkeX50eY6KRO"
      },
      "execution_count": null,
      "outputs": []
    },
    {
      "cell_type": "markdown",
      "source": [
        "#### Missing Values/Null Values"
      ],
      "metadata": {
        "id": "PoPl-ycgm1ru"
      }
    },
    {
      "cell_type": "code",
      "source": [
        "missing_null_values = hotel_dataset.isnull() == True\n",
        "hotel_dataset.fillna(np.nan, inplace = True)\n",
        "hotel_dataset"
      ],
      "metadata": {
        "id": "oeIaeRg_HK39"
      },
      "execution_count": null,
      "outputs": []
    },
    {
      "cell_type": "code",
      "source": [
        "# Visualizing the missing values\n",
        "missing_null_values = hotel_dataset.isnull().sum().sort_values(ascending = False)\n",
        "missing_null_values"
      ],
      "metadata": {
        "id": "3q5wnI3om9sJ"
      },
      "execution_count": null,
      "outputs": []
    },
    {
      "cell_type": "code",
      "source": [
        "#Fill the missing values\n",
        "hotel_dataset.fillna(np.nan, inplace = True)\n",
        "hotel_dataset"
      ],
      "metadata": {
        "id": "K3xgiFZzD478"
      },
      "execution_count": null,
      "outputs": []
    },
    {
      "cell_type": "markdown",
      "source": [
        "### What did you know about your dataset?"
      ],
      "metadata": {
        "id": "H0kj-8xxnORC"
      }
    },
    {
      "cell_type": "markdown",
      "source": [
        "This is a comparative dataset between two hotels . one is city hotel and the other one is Resort hotel.  The dataset have 32 columns and total 119390 rows. The data share the details about it's booking process and about the guest as well. it have 87396 missing values.\n",
        "And 31994 duplicates values,meanwhile mejorly it have 3 columns that's 87396 missing values."
      ],
      "metadata": {
        "id": "gfoNAAC-nUe_"
      }
    },
    {
      "cell_type": "markdown",
      "source": [
        "## ***2. Understanding Your Variables***"
      ],
      "metadata": {
        "id": "nA9Y7ga8ng1Z"
      }
    },
    {
      "cell_type": "code",
      "source": [
        "# Dataset Columns\n",
        "df_columns = hotel_dataset.columns\n",
        "df_columns"
      ],
      "metadata": {
        "id": "j7xfkqrt5Ag5"
      },
      "execution_count": null,
      "outputs": []
    },
    {
      "cell_type": "code",
      "source": [
        "# Dataset Describe\n",
        "hotel_dataset.describe()"
      ],
      "metadata": {
        "id": "DnOaZdaE5Q5t"
      },
      "execution_count": null,
      "outputs": []
    },
    {
      "cell_type": "markdown",
      "source": [
        "### Variables Description"
      ],
      "metadata": {
        "id": "PBTbrJXOngz2"
      }
    },
    {
      "cell_type": "markdown",
      "source": [
        "The columns and the data it represents are listed below:\n",
        "\n",
        "1. hotel: Name of the hotel (Resort Hotel or City Hotel)\n",
        "\n",
        "2. is canceled: If the booking was canceled (1) or not (0)\n",
        "\n",
        "3. lead time: Number of days before the actual arrival of the guests\n",
        "\n",
        "4. arrival, date year: Year of arrival date\n",
        "\n",
        "5. arrival data month: Month of month arrival date\n",
        "\n",
        "6. arrival date week number: Week number of year for antval date\n",
        "\n",
        "7. arrival date day of month: Day of arrival date\n",
        "\n",
        "8. stays in weekand nights: Number of weekand nights (Saturday or Sunday) spent at the hotel by the guests.\n",
        "\n",
        "9. stays in weak nights: Number of weeknights (Monday to Friday) spent at the hotel by the guests.\n",
        "\n",
        "10. adults: Number of adults among guests\n",
        "\n",
        "11. children: Number of children among guests\n",
        "\n",
        "12. bables: Number of babies among guests\n",
        "\n",
        "13. meal: Type of meal booked\n",
        "\n",
        "14. country: Country of guests\n",
        "\n",
        "15. market segment: Designation of market segment\n",
        "\n",
        "16. distribution, channel: Name of booking distribution channel\n",
        "\n",
        "17. is repeated guest: If the booking was from a repeated guest (1) or not (0)\n",
        "18. previous cancellations: Number of previous bookings that were cancelled by the customer prior to the current booking\n",
        "\n",
        "19. previous bookings not canceled: Number of previous bookings not cancelled by the customer prior to the current booking\n",
        "\n",
        "20. reserved room type: Code of room type reserved\n",
        "\n",
        "21. assigned room type: Code of room type assigned\n",
        "\n",
        "22. booking changes: Number of changes/amandments made to the booking\n",
        "\n",
        "23. deposit type: Type of the deposit made by the guest\n",
        "\n",
        "24. agent: ID of travel agent who made the booking\n",
        "\n",
        "25. company: ID of the company that man the booking\n",
        "\n",
        "26. days in waiting list: Number of days the booking was in the waiting list\n",
        "\n",
        "27. customer type: Type of customer, assuming one of four chegarnes\n",
        "\n",
        "28. adr: Average Daily Rate, as defined by dividing the sum of all lodging transactions by the total number of staying nights\n",
        "\n",
        "29. required car parking, spaces: Number of car parking spaces required by the customer\n",
        "\n",
        "30. total of special requests: Number of special requests made by the customer\n",
        "\n",
        "31. reservation statum: Reservation status (Cenceted, Check Out of No-Show)\n",
        "\n",
        "32. roservation status, date: Cote at which the last reservation statue was updated"
      ],
      "metadata": {
        "id": "aJV4KIxSnxay"
      }
    },
    {
      "cell_type": "markdown",
      "source": [
        "### Check Unique Values for each variable."
      ],
      "metadata": {
        "id": "u3PMJOP6ngxN"
      }
    },
    {
      "cell_type": "code",
      "source": [
        "# Check Unique Values for each variable.\n",
        "unique_values = hotel_dataset.nunique()\n",
        "\n",
        "print(\"Unique values for each variable:\")\n",
        "print(unique_values)\n"
      ],
      "metadata": {
        "id": "zms12Yq5n-jE"
      },
      "execution_count": null,
      "outputs": []
    },
    {
      "cell_type": "code",
      "source": [
        "# Check Unique Values for each variable.\n",
        "print(hotel_dataset.apply(lambda col : col.unique()))"
      ],
      "metadata": {
        "id": "ouHisKp9OF7D"
      },
      "execution_count": null,
      "outputs": []
    },
    {
      "cell_type": "markdown",
      "source": [
        "## 3. ***Data Wrangling***"
      ],
      "metadata": {
        "id": "dauF4eBmngu3"
      }
    },
    {
      "cell_type": "markdown",
      "source": [
        "### Data Wrangling Code"
      ],
      "metadata": {
        "id": "bKJF3rekwFvQ"
      }
    },
    {
      "cell_type": "code",
      "source": [],
      "metadata": {
        "id": "vXT9SoPL2sQZ"
      },
      "execution_count": null,
      "outputs": []
    },
    {
      "cell_type": "code",
      "source": [
        "#checking the null values in each column\n",
        "percentage_company_null = missing_null_values[0] / unique_data * 100\n",
        "\n",
        "percentage_company_null"
      ],
      "metadata": {
        "id": "JqqVHIAisgdN"
      },
      "execution_count": null,
      "outputs": []
    },
    {
      "cell_type": "code",
      "source": [
        "#checking the missing values\n",
        "missing_null_values[:5]"
      ],
      "metadata": {
        "id": "fLgHxVdmw2Me"
      },
      "execution_count": null,
      "outputs": []
    },
    {
      "cell_type": "code",
      "source": [
        "#as we can see the \"company\" column has the higher num of missing values\n",
        "#drop the \"company \" column from the data set\n",
        "hotel_dataset.drop(['company'], axis = 1 ,inplace = True)"
      ],
      "metadata": {
        "id": "Kx88WxOQ24lu"
      },
      "execution_count": null,
      "outputs": []
    },
    {
      "cell_type": "code",
      "source": [
        "#checking  percentage of missing values in \"agent\" column\n",
        "prec_of_agent_null = missing_null_values[1] / unique_data *100\n",
        "prec_of_agent_null"
      ],
      "metadata": {
        "id": "Y41yNxoX3nvE"
      },
      "execution_count": null,
      "outputs": []
    },
    {
      "cell_type": "code",
      "source": [
        "#fill the null values in agent column by\n",
        "hotel_dataset['agent'].fillna(value = 0, inplace = True)\n",
        "hotel_dataset['agent'].isnull().sum()"
      ],
      "metadata": {
        "id": "lTm-XzW34hOu"
      },
      "execution_count": null,
      "outputs": []
    },
    {
      "cell_type": "code",
      "source": [
        "#Percentage of missing values  in \"country \" column\n",
        "per_of_nul_country = missing_null_values[2] / unique_data * 100\n",
        "per_of_nul_country"
      ],
      "metadata": {
        "id": "P4aWz0Wg5mhK"
      },
      "execution_count": null,
      "outputs": []
    },
    {
      "cell_type": "code",
      "source": [
        "#fill the missing values in country column\n",
        "hotel_dataset['country'].fillna(value = 'others', inplace=True)\n",
        "hotel_dataset['country'].isnull().sum()"
      ],
      "metadata": {
        "id": "4XpbJPWm4X3D"
      },
      "execution_count": null,
      "outputs": []
    },
    {
      "cell_type": "code",
      "source": [
        "#checking the percentage of missing values in children column\n",
        "per_of_null_children = missing_null_values[3]/ unique_data *100\n",
        "per_of_null_children"
      ],
      "metadata": {
        "id": "R9eG07Q966KP"
      },
      "execution_count": null,
      "outputs": []
    },
    {
      "cell_type": "code",
      "source": [
        "#fil the missing values in \"children\" column\n",
        "hotel_dataset['children'].fillna(value =0,inplace=True)\n",
        "hotel_dataset['children'].isnull().sum()"
      ],
      "metadata": {
        "id": "Wl3R2P0O7W10"
      },
      "execution_count": null,
      "outputs": []
    },
    {
      "cell_type": "code",
      "source": [
        "#checking the missing values in the dataset\n",
        "hotel_dataset.isnull().sum()"
      ],
      "metadata": {
        "id": "H2-FgARk8P4n"
      },
      "execution_count": null,
      "outputs": []
    },
    {
      "cell_type": "code",
      "source": [
        "#checking sum of stay in night\n",
        "hotel_dataset['total_stay_in_nights']= hotel_dataset['stays_in_week_nights'] + hotel_dataset['stays_in_weekend_nights']\n",
        "hotel_dataset['total_stay_in_nights']"
      ],
      "metadata": {
        "id": "68Q1QhJaDZEF"
      },
      "execution_count": null,
      "outputs": []
    },
    {
      "cell_type": "code",
      "source": [
        "hotel_dataset.head(5)"
      ],
      "metadata": {
        "id": "YP3j9RQry3lu"
      },
      "execution_count": null,
      "outputs": []
    },
    {
      "cell_type": "code",
      "source": [
        "hotel_dataset.info()"
      ],
      "metadata": {
        "id": "UZOJGyT6GpP2"
      },
      "execution_count": null,
      "outputs": []
    },
    {
      "cell_type": "code",
      "source": [
        "#We have created a col for revenue using total stay adr\n",
        "hotel_dataset['revenue'] = hotel_dataset['total_stay_in_nights'] *hotel_dataset['adr']\n",
        "hotel_dataset['revenue']"
      ],
      "metadata": {
        "id": "TPOMhPM2F0v2"
      },
      "execution_count": null,
      "outputs": []
    },
    {
      "cell_type": "code",
      "source": [
        "#also, for information, we will add a column with total guest coming for each booking\n",
        "hotel_dataset['total_guest'] = hotel_dataset['adults'] + hotel_dataset['children'] + hotel_dataset['babies']\n",
        "\n",
        "hotel_dataset['total_guest'].sum()"
      ],
      "metadata": {
        "id": "_xvpFwU3G2Gj"
      },
      "execution_count": null,
      "outputs": []
    },
    {
      "cell_type": "code",
      "source": [
        "#replace the value from \"is_cancel\" to \"not cancel\"\n",
        "hotel_dataset['is_canceled'] = hotel_dataset['is_canceled'].replace([0,1],['not_canceled','s canceled'])\n",
        "hotel_dataset['is_canceled']\n"
      ],
      "metadata": {
        "id": "K6uU9klNIhAj"
      },
      "execution_count": null,
      "outputs": []
    },
    {
      "cell_type": "code",
      "source": [
        "#same as not cancel column\n",
        "hotel_dataset['is_repeated_guest'] = hotel_dataset['is_repeated_guest'].replace([0,1],['not repeated','repeated'])\n",
        "hotel_dataset['is_repeated_guest']"
      ],
      "metadata": {
        "id": "9WgQQnmKMBD_"
      },
      "execution_count": null,
      "outputs": []
    },
    {
      "cell_type": "code",
      "source": [
        "#checking hotel wise revenue\n",
        "hotel_wise_revenue = hotel_dataset.groupby('hotel')['revenue'].sum()\n",
        "hotel_wise_revenue"
      ],
      "metadata": {
        "id": "BaHsJmg-O0zE"
      },
      "execution_count": null,
      "outputs": []
    },
    {
      "cell_type": "code",
      "source": [
        "hotel_dataset[['hotel','revenue']]"
      ],
      "metadata": {
        "id": "5mL9w-5CQmtu"
      },
      "execution_count": null,
      "outputs": []
    },
    {
      "cell_type": "code",
      "source": [],
      "metadata": {
        "id": "pcUpsA9WQ_-d"
      },
      "execution_count": null,
      "outputs": []
    },
    {
      "cell_type": "markdown",
      "source": [
        "### What all manipulations have you done and insights you found?"
      ],
      "metadata": {
        "id": "MSa1f5Uengrz"
      }
    },
    {
      "cell_type": "markdown",
      "source": [
        "We only made a few changes to the data.\n",
        "\n",
        "Columns added\n",
        "\n",
        "We have seen that a few columns are needed in the data for analytical purposes, and these columns can be evaluated.\n",
        "\n",
        "a) Number of Guests: We may assess the overall number of guests and Income by using these columns. This value is obtained by summing the total number of adults, children, and infants.\n",
        "\n",
        "b) Income: ADR and total guests are multiplied to find revenue. This column will be used to examine each hotel's growth and profitability.\n",
        "\n",
        "Columns deleted-\n",
        "\n",
        "a)company. As we can see, this column almost has no data. As a result, we had to eliminate this column because it had no bearing on the analysis\n",
        "\n",
        "Replace values in columns by is cancelled, Isn't cancelled, and is a repeat visitor. As we've seen, these columns only hold the value of 0,1 to indicate that the boycott is now being cancelled. These values (0,1) from \"Cancelled\" & \"Not cancelled\" are changed. The same procedure is used to change 0,1 from \"Repeated\" and \"Not repeated in the column is repeated_guest. These values will now facilitate greater comprehension during visualisation.\n",
        "\n",
        "Changes to the values' data types in columns-\n",
        "\n",
        "a) Agent & Kids: We verified that these columns contain float values, which don't make sense in the data because they represent the guest count and agent ID. Therefore, we have updated the 'float' data type of these columns to \"Integer.\n",
        "\n",
        "Removed duplicate entries and is null values-\n",
        "\n",
        "a) Data wrangling must be done before any data from the data set can be visualised.\n",
        "\n",
        "Duta wrangling must be done before any data from the data set can be visualised. We have examined each column's null value in order to determine that. After checking, drop the column using the 'drop' method if we find one that has a greater percentage of null values. We are so removed from the company' column. When there are only a few null values, we fill those null values with the necessary values using the fillina) function\n",
        "\n",
        "b) in the sarme, we looked to see whether there was any data duplication and discovered that a few rows had duplicate data. As a result, we used the drop, duplicates() method to delete those rows from the data set.\n",
        "\n",
        "By doing this, we have eliminated any unnecessary data."
      ],
      "metadata": {
        "id": "LbyXE7I1olp8"
      }
    },
    {
      "cell_type": "markdown",
      "source": [
        "## ***4. Data Vizualization, Storytelling & Experimenting with charts : Understand the relationships between variables***"
      ],
      "metadata": {
        "id": "GF8Ens_Soomf"
      }
    },
    {
      "cell_type": "markdown",
      "source": [
        "#### Chart - 1"
      ],
      "metadata": {
        "id": "0wOQAZs5pc--"
      }
    },
    {
      "cell_type": "code",
      "source": [],
      "metadata": {
        "id": "j-lSGlv2tRtG"
      },
      "execution_count": null,
      "outputs": []
    },
    {
      "cell_type": "code",
      "source": [
        "\n",
        "# Let's create a function which will give us bar chart of data respective with a col.\n",
        "def get_count_from_column_bar(df, column_label):\n",
        "  df_grpd = df[column_label].value_counts()\n",
        "  df_grpd = pd.DataFrame({'index':df_grpd.index, 'count':df_grpd.values})\n",
        "  return df_grpd\n",
        "\n",
        "\n",
        "def plot_bar_chart_from_column(df, column_label, t1):\n",
        "  df_grpd = get_count_from_column(df, column_label)\n",
        "  fig, ax = plt.subplots(figsize=(14, 6))\n",
        "  c= ['g','r','b','c','y']\n",
        "  ax.bar(df_grpd['index'], df_grpd['count'], width = 0.4, align = 'edge', edgecolor = 'black', linewidth = 4, color = c, linestyle = ':', alpha = 0.5)\n",
        "  plt.title(t1, bbox={'facecolor':'0.8', 'pad':3})\n",
        "  plt.legend()\n",
        "  plt.ylabel('Count')\n",
        "  plt.xticks(rotation = 15) # use to format the lable of x-axis\n",
        "  plt.xlabel(column_label)\n",
        "  plt.show()"
      ],
      "metadata": {
        "id": "DY1D62HtrLTc"
      },
      "execution_count": null,
      "outputs": []
    },
    {
      "cell_type": "code",
      "source": [
        "# Chart - 1 visualization code\n",
        "\n",
        "def get_count_from_column(df, column_label):\n",
        "  df_grpd = df[column_label].value_counts()\n",
        "  df_grpd = pd.DataFrame({'index':df_grpd.index, 'count':df_grpd.values})\n",
        "  return df_grpd\n",
        "\n",
        "# plot a pie chart from grouped data\n",
        "def plot_pie_chart_from_column(df, column_label, t1, exp):\n",
        "  df_grpd = get_count_from_column(df, column_label)\n",
        "  fig, ax = plt.subplots(figsize=(14,9))\n",
        "  ax.pie(df_grpd.loc[:, 'count'], labels=df_grpd.loc[:, 'index'], autopct='%1.2f%%',startangle=90,shadow=True, labeldistance = 1, explode = exp)\n",
        "  plt.title(t1, bbox={'facecolor':'0.8', 'pad':3})\n",
        "  ax.axis('equal')\n",
        "  plt.legend()\n",
        "  plt.show()"
      ],
      "metadata": {
        "id": "1-Z_EvKTrZ8h"
      },
      "execution_count": null,
      "outputs": []
    },
    {
      "cell_type": "code",
      "source": [
        "exp1 = [0.05,0.05]\n",
        "plot_pie_chart_from_column(hotel_dataset, 'hotel', 'Booking percentage of Hotel by Name', exp1)"
      ],
      "metadata": {
        "id": "L3-PGdpLrbcY"
      },
      "execution_count": null,
      "outputs": []
    },
    {
      "cell_type": "markdown",
      "source": [
        "##### 1. Why did you pick the specific chart?"
      ],
      "metadata": {
        "id": "K5QZ13OEpz2H"
      }
    },
    {
      "cell_type": "markdown",
      "source": [
        "**To visualization the data between two hotels respectives of booking**"
      ],
      "metadata": {
        "id": "XESiWehPqBRc"
      }
    },
    {
      "cell_type": "markdown",
      "source": [
        "##### 2. What is/are the insight(s) found from the chart?"
      ],
      "metadata": {
        "id": "lQ7QKXXCp7Bj"
      }
    },
    {
      "cell_type": "markdown",
      "source": [
        "**Here we can see that the city hotel has 20% more booking then the resort hotel. therfor we can say city hotel perfromed very well**"
      ],
      "metadata": {
        "id": "C_j1G7yiqdRP"
      }
    },
    {
      "cell_type": "markdown",
      "source": [
        "##### 3. Will the gained insights help creating a positive business impact?\n",
        "Are there any insights that lead to negative growth? Justify with specific reason."
      ],
      "metadata": {
        "id": "448CDAPjqfQr"
      }
    },
    {
      "cell_type": "markdown",
      "source": [
        "yes , Both hotels can improve them and generate revenue from this data\n",
        "**city hotel** can focus to attract more customers to increase there booking %.\n",
        "**Resort hotel** need to improved there services to attract more customers to increase there booking percentage"
      ],
      "metadata": {
        "id": "3cspy4FjqxJW"
      }
    },
    {
      "cell_type": "markdown",
      "source": [
        "#### Chart - 2"
      ],
      "metadata": {
        "id": "KSlN3yHqYklG"
      }
    },
    {
      "cell_type": "code",
      "source": [
        "#lets visualization the cancellation percentage\n",
        "exp4=[0,0.1]\n",
        "plot_pie_chart_from_column(hotel_dataset,'is_canceled','calcellation valume of both hotels',exp4)"
      ],
      "metadata": {
        "id": "aDFLo9hmw5B6"
      },
      "execution_count": null,
      "outputs": []
    },
    {
      "cell_type": "markdown",
      "source": [
        "##### 1. Why did you pick the specific chart?"
      ],
      "metadata": {
        "id": "t6dVpIINYklI"
      }
    },
    {
      "cell_type": "markdown",
      "source": [
        "**Here With the pie chart we can visualisation the percentage of cancellation. and we can draw a conclusion.**"
      ],
      "metadata": {
        "id": "5aaW0BYyYklI"
      }
    },
    {
      "cell_type": "markdown",
      "source": [
        "##### 2. What is/are the insight(s) found from the chart?"
      ],
      "metadata": {
        "id": "ijmpgYnKYklI"
      }
    },
    {
      "cell_type": "markdown",
      "source": [
        "Here we can see there were 27.49% customers had canceled there bookings.and 72.51 were not canceled"
      ],
      "metadata": {
        "id": "PSx9atu2YklI"
      }
    },
    {
      "cell_type": "markdown",
      "source": [
        "##### 3. Will the gained insights help creating a positive business impact?\n",
        "Are there any insights that lead to negative growth? Justify with specific reason."
      ],
      "metadata": {
        "id": "-JiQyfWJYklI"
      }
    },
    {
      "cell_type": "markdown",
      "source": [
        "Here with this visualisation of the data both hotels can improve their services and should found some solution about the cancellation percentage."
      ],
      "metadata": {
        "id": "BcBbebzrYklV"
      }
    },
    {
      "cell_type": "markdown",
      "source": [
        "#### Chart - 3"
      ],
      "metadata": {
        "id": "EM7whBJCYoAo"
      }
    },
    {
      "cell_type": "code",
      "source": [
        "# Chart - 3 visualization code\n",
        "#lets compare the distribution_channel\n",
        "plot_bar_chart_from_column(hotel_dataset,'distribution_channel','volume of distribution')"
      ],
      "metadata": {
        "id": "t6GMdE67YoAp"
      },
      "execution_count": null,
      "outputs": []
    },
    {
      "cell_type": "markdown",
      "source": [
        "##### 1. Why did you pick the specific chart?"
      ],
      "metadata": {
        "id": "fge-S5ZAYoAp"
      }
    },
    {
      "cell_type": "markdown",
      "source": [
        "**The following chart represent maximum volume of booking done through which channel to represnt the numbers in descending order we chose bar graph**"
      ],
      "metadata": {
        "id": "5dBItgRVYoAp"
      }
    },
    {
      "cell_type": "markdown",
      "source": [
        "##### 2. What is/are the insight(s) found from the chart?"
      ],
      "metadata": {
        "id": "85gYPyotYoAp"
      }
    },
    {
      "cell_type": "markdown",
      "source": [
        "**As clearly seen TA/TO(Tour of Agent & Tour of operator) is highest, recommending to continue booking through TA/TO**"
      ],
      "metadata": {
        "id": "4jstXR6OYoAp"
      }
    },
    {
      "cell_type": "markdown",
      "source": [
        "##### 3. Will the gained insights help creating a positive business impact?\n",
        "Are there any insights that lead to negative growth? Justify with specific reason."
      ],
      "metadata": {
        "id": "RoGjAbkUYoAp"
      }
    },
    {
      "cell_type": "markdown",
      "source": [
        "**Yes this shows positive business impact.**\n",
        "**Higher the number of TA/TO will help to increase the revenue generation of Hotel**."
      ],
      "metadata": {
        "id": "zfJ8IqMcYoAp"
      }
    },
    {
      "cell_type": "markdown",
      "source": [
        "#### Chart - 4"
      ],
      "metadata": {
        "id": "4Of9eVA-YrdM"
      }
    },
    {
      "cell_type": "code",
      "source": [
        "# Chart - 4 visualization code\n",
        "exp2 = [0.2, 0,0,0,0,0,0,0,0,0,0,0.1]\n",
        "plot_pie_chart_from_column(hotel_dataset, 'arrival_date_month', 'Month-wise booking', exp2)"
      ],
      "metadata": {
        "id": "irlUoxc8YrdO"
      },
      "execution_count": null,
      "outputs": []
    },
    {
      "cell_type": "markdown",
      "source": [
        "##### 1. Why did you pick the specific chart?"
      ],
      "metadata": {
        "id": "iky9q4vBYrdO"
      }
    },
    {
      "cell_type": "markdown",
      "source": [
        "**To show the percentage share of booking in each month,on overall level**"
      ],
      "metadata": {
        "id": "aJRCwT6DYrdO"
      }
    },
    {
      "cell_type": "markdown",
      "source": [
        "##### 2. What is/are the insight(s) found from the chart?"
      ],
      "metadata": {
        "id": "F6T5p64dYrdO"
      }
    },
    {
      "cell_type": "markdown",
      "source": [
        "**The above percentage shows month May, July and Aug are the highest booking months due to holiday season. Recommending aggressive advertisement to lure more and more customers.**"
      ],
      "metadata": {
        "id": "Xx8WAJvtYrdO"
      }
    },
    {
      "cell_type": "markdown",
      "source": [
        "##### 3. Will the gained insights help creating a positive business impact?\n",
        "Are there any insights that lead to negative growth? Justify with specific reason."
      ],
      "metadata": {
        "id": "y-Ehk30pYrdP"
      }
    },
    {
      "cell_type": "markdown",
      "source": [
        "**Yes, with increased volume of visitors will help hotel to manage revenue in down time, will also help employee satisfaction and retention.**"
      ],
      "metadata": {
        "id": "jLNxxz7MYrdP"
      }
    },
    {
      "cell_type": "markdown",
      "source": [
        "#### Chart - 5"
      ],
      "metadata": {
        "id": "bamQiAODYuh1"
      }
    },
    {
      "cell_type": "code",
      "source": [
        "# Chart - 5 visualization code\n",
        "exp3 = [0,0.3]\n",
        "plot_pie_chart_from_column(hotel_dataset, 'is_repeated_guest', 'Guest repeating status', exp3)"
      ],
      "metadata": {
        "id": "TIJwrbroYuh3"
      },
      "execution_count": null,
      "outputs": []
    },
    {
      "cell_type": "markdown",
      "source": [
        "##### 1. Why did you pick the specific chart?"
      ],
      "metadata": {
        "id": "QHF8YVU7Yuh3"
      }
    },
    {
      "cell_type": "markdown",
      "source": [
        "**To show the percentage share of repeated & non-repeated guests.**"
      ],
      "metadata": {
        "id": "dcxuIMRPYuh3"
      }
    },
    {
      "cell_type": "markdown",
      "source": [
        "##### 2. What is/are the insight(s) found from the chart?"
      ],
      "metadata": {
        "id": "GwzvFGzlYuh3"
      }
    },
    {
      "cell_type": "markdown",
      "source": [
        "**Here, we can see that the number of repeated guests is very less as compared to overall guests**"
      ],
      "metadata": {
        "id": "uyqkiB8YYuh3"
      }
    },
    {
      "cell_type": "markdown",
      "source": [
        "##### 3. Will the gained insights help creating a positive business impact?\n",
        "Are there any insights that lead to negative growth? Justify with specific reason."
      ],
      "metadata": {
        "id": "qYpmQ266Yuh3"
      }
    },
    {
      "cell_type": "markdown",
      "source": [
        "**We can give alluring offers to non-repetitive customers during Off seasons to enhance revenue**"
      ],
      "metadata": {
        "id": "_WtzZ_hCYuh4"
      }
    },
    {
      "cell_type": "markdown",
      "source": [
        "#### Chart - 6"
      ],
      "metadata": {
        "id": "OH-pJp9IphqM"
      }
    },
    {
      "cell_type": "code",
      "source": [
        "# Chart - 6 visualization code\n",
        "plot_bar_chart_from_column(hotel_dataset, 'assigned_room_type', 'Assigment of room by type')"
      ],
      "metadata": {
        "id": "kuRf4wtuphqN"
      },
      "execution_count": null,
      "outputs": []
    },
    {
      "cell_type": "markdown",
      "source": [
        "##### 1. Why did you pick the specific chart?"
      ],
      "metadata": {
        "id": "bbFf2-_FphqN"
      }
    },
    {
      "cell_type": "markdown",
      "source": [
        "**To show distribution by volume, which room is alotted**"
      ],
      "metadata": {
        "id": "loh7H2nzphqN"
      }
    },
    {
      "cell_type": "markdown",
      "source": [
        "##### 2. What is/are the insight(s) found from the chart?"
      ],
      "metadata": {
        "id": "_ouA3fa0phqN"
      }
    },
    {
      "cell_type": "markdown",
      "source": [
        "**This chart shows room type 'A' is most prefered by guest**"
      ],
      "metadata": {
        "id": "VECbqPI7phqN"
      }
    },
    {
      "cell_type": "markdown",
      "source": [
        "##### 3. Will the gained insights help creating a positive business impact?\n",
        "Are there any insights that lead to negative growth? Justify with specific reason."
      ],
      "metadata": {
        "id": "Seke61FWphqN"
      }
    },
    {
      "cell_type": "markdown",
      "source": [
        "**Yes, Positive impact because 'A','D','E' is more prefered by guest due to better services offered in room type.**"
      ],
      "metadata": {
        "id": "DW4_bGpfphqN"
      }
    },
    {
      "cell_type": "markdown",
      "source": [
        "#### Chart - 7"
      ],
      "metadata": {
        "id": "PIIx-8_IphqN"
      }
    },
    {
      "cell_type": "code",
      "source": [
        "market_segment_df = pd.DataFrame(hotel_dataset['market_segment'])\n",
        "market_segment_df_data = market_segment_df.groupby('market_segment')['market_segment'].count()\n",
        "market_segment_df_data.sort_values(ascending = False, inplace = True)\n",
        "plt.figure(figsize=(15,6))\n",
        "y = np.array([4,5,6])\n",
        "market_segment_df_data.plot(kind = 'bar', color=['g', 'r', 'c', 'b', 'y', 'black', 'brown'], fontsize = 20,legend='True')"
      ],
      "metadata": {
        "id": "a2seeuzkdY1M"
      },
      "execution_count": null,
      "outputs": []
    },
    {
      "cell_type": "markdown",
      "source": [
        "##### 1. Why did you pick the specific chart?"
      ],
      "metadata": {
        "id": "t27r6nlMphqO"
      }
    },
    {
      "cell_type": "markdown",
      "source": [
        "**In this chart, we have seen market segment by which hotel has booked**"
      ],
      "metadata": {
        "id": "iv6ro40sphqO"
      }
    },
    {
      "cell_type": "markdown",
      "source": [
        "##### 2. What is/are the insight(s) found from the chart?"
      ],
      "metadata": {
        "id": "r2jJGEOYphqO"
      }
    },
    {
      "cell_type": "markdown",
      "source": [
        "**Online TA has been used most frequently to book hotel by the guest.**"
      ],
      "metadata": {
        "id": "Po6ZPi4hphqO"
      }
    },
    {
      "cell_type": "markdown",
      "source": [
        "##### 3. Will the gained insights help creating a positive business impact?\n",
        "Are there any insights that lead to negative growth? Justify with specific reason."
      ],
      "metadata": {
        "id": "b0JNsNcRphqO"
      }
    },
    {
      "cell_type": "markdown",
      "source": [
        "**Yes, it is creating positive business impact that guests are using Online TA market segment as most prefered to book hotels.**"
      ],
      "metadata": {
        "id": "xvSq8iUTphqO"
      }
    },
    {
      "cell_type": "markdown",
      "source": [
        "#### Chart - 8"
      ],
      "metadata": {
        "id": "BZR9WyysphqO"
      }
    },
    {
      "cell_type": "code",
      "source": [
        "# Chart - 8 visualization code\n",
        "guest_country_wise = pd.DataFrame(hotel_dataset[['country', 'total_guest']])\n",
        "guest_country_wise_df = guest_country_wise.groupby(['country'])['total_guest'].sum()\n",
        "guest_country_wise_df.sort_values(ascending = False, inplace = True)\n",
        "top_10_country_by_guest = guest_country_wise_df.head(10)"
      ],
      "metadata": {
        "id": "XYEl9kSgvFTg"
      },
      "execution_count": null,
      "outputs": []
    },
    {
      "cell_type": "code",
      "source": [
        "plt.figure(figsize=(12, 6))\n",
        "\n",
        "# Assuming top_10_country_by_guest is a DataFrame or Series with country codes as index and guest counts as values\n",
        "sns.barplot(x=top_10_country_by_guest.index, y=top_10_country_by_guest).set(title='Top 10 Countries by Guest')\n",
        "\n",
        "# Displaying country codes legend\n",
        "print(\"\\n\\nPRT = Portugal\\nGBR = Great Britain & Northern Ireland\\nFRA = France\\nESP = Spain\\nDEU = Germany\\nITA = Italy\\nIRL = Ireland\\nBRA = Brazil\\nBEL = Belgium\\nNLD = Netherland\")\n",
        "\n",
        "plt.show()\n"
      ],
      "metadata": {
        "id": "ZdihOS__v-rw"
      },
      "execution_count": null,
      "outputs": []
    },
    {
      "cell_type": "markdown",
      "source": [
        "##### 1. Why did you pick the specific chart?"
      ],
      "metadata": {
        "id": "jj7wYXLtphqO"
      }
    },
    {
      "cell_type": "markdown",
      "source": [
        "**We have seen that mostly from which country Guests is coming**\n",
        "\n",
        "***Chart is showing for top 10 country***"
      ],
      "metadata": {
        "id": "Ob8u6rCTphqO"
      }
    },
    {
      "cell_type": "markdown",
      "source": [
        "##### 2. What is/are the insight(s) found from the chart?"
      ],
      "metadata": {
        "id": "eZrbJ2SmphqO"
      }
    },
    {
      "cell_type": "markdown",
      "source": [
        "**As we can see, that maximum guest is coming from Portugal**"
      ],
      "metadata": {
        "id": "mZtgC_hjphqO"
      }
    },
    {
      "cell_type": "markdown",
      "source": [
        "##### 3. Will the gained insights help creating a positive business impact?\n",
        "Are there any insights that lead to negative growth? Justify with specific reason."
      ],
      "metadata": {
        "id": "rFu4xreNphqO"
      }
    },
    {
      "cell_type": "markdown",
      "source": [
        "**We can do more advertising & can provide attractive offers to Portugal guests to enhance the customer volume**"
      ],
      "metadata": {
        "id": "ey_0qi68phqO"
      }
    },
    {
      "cell_type": "markdown",
      "source": [
        "#### Chart - 9"
      ],
      "metadata": {
        "id": "YJ55k-q6phqO"
      }
    },
    {
      "cell_type": "code",
      "source": [
        "plt.figure(figsize = (8,5))\n",
        "hotel_wise_revenue = hotel_dataset.groupby('hotel')['revenue'].sum()\n",
        "hotel_wise_revenue\n",
        "ax = hotel_wise_revenue.plot(kind = 'bar', color = ('b', 'y'))\n",
        "plt.xlabel(\"Hotel\", fontdict={'fontsize': 12, 'fontweight' : 5, 'color' : 'Brown'})\n",
        "plt.ylabel(\"Total Revenue\", fontdict={'fontsize': 12, 'fontweight' : 5, 'color' : 'Brown'} )\n",
        "plt.title(\"Total Revenue\", fontdict={'fontsize': 12, 'fontweight' : 5, 'color' : 'Green'} )"
      ],
      "metadata": {
        "id": "GeJWf5Bm_W5D"
      },
      "execution_count": null,
      "outputs": []
    },
    {
      "cell_type": "markdown",
      "source": [
        "##### 1. Why did you pick the specific chart?"
      ],
      "metadata": {
        "id": "gCFgpxoyphqP"
      }
    },
    {
      "cell_type": "markdown",
      "source": [
        " **  As we can see the revenue structure between two hotels**"
      ],
      "metadata": {
        "id": "TVxDimi2phqP"
      }
    },
    {
      "cell_type": "markdown",
      "source": [
        "##### 2. What is/are the insight(s) found from the chart?"
      ],
      "metadata": {
        "id": "OVtJsKN_phqQ"
      }
    },
    {
      "cell_type": "markdown",
      "source": [
        "**We found that city hotel have generated more revenue then the resort hotel**"
      ],
      "metadata": {
        "id": "ngGi97qjphqQ"
      }
    },
    {
      "cell_type": "markdown",
      "source": [
        "##### 3. Will the gained insights help creating a positive business impact?\n",
        "Are there any insights that lead to negative growth? Justify with specific reason."
      ],
      "metadata": {
        "id": "lssrdh5qphqQ"
      }
    },
    {
      "cell_type": "markdown",
      "source": [
        "Resort hotel should find solution or develope there polices to generated more revenue. and city hotel already doing better and they need to focuse on upcomings days to generated more revenue"
      ],
      "metadata": {
        "id": "tBpY5ekJphqQ"
      }
    },
    {
      "cell_type": "markdown",
      "source": [
        "#### Chart - 10"
      ],
      "metadata": {
        "id": "U2RJ9gkRphqQ"
      }
    },
    {
      "cell_type": "code",
      "source": [
        "# Chart - 10 visualization code\n",
        "\n",
        "plt.figure(figsize = (12,6))\n",
        "sns.scatterplot(y = 'total_stay_in_nights', x = 'adr', data = hotel_dataset[hotel_dataset['adr'] < 1000])\n",
        "plt.show() #"
      ],
      "metadata": {
        "id": "GM7a4YP4phqQ"
      },
      "execution_count": null,
      "outputs": []
    },
    {
      "cell_type": "markdown",
      "source": [
        "##### 1. Why did you pick the specific chart?"
      ],
      "metadata": {
        "id": "1M8mcRywphqQ"
      }
    },
    {
      "cell_type": "markdown",
      "source": [
        " **In this case, we want to see if there's any discernible pattern or correlation between the average daily rate and the total number of nights stayed.**"
      ],
      "metadata": {
        "id": "8agQvks0phqQ"
      }
    },
    {
      "cell_type": "markdown",
      "source": [
        "##### 2. What is/are the insight(s) found from the chart?"
      ],
      "metadata": {
        "id": "tgIPom80phqQ"
      }
    },
    {
      "cell_type": "markdown",
      "source": [
        "**Here, we found that if guest's stay days is getting decreased, ADR is getting high**"
      ],
      "metadata": {
        "id": "Qp13pnNzphqQ"
      }
    },
    {
      "cell_type": "markdown",
      "source": [
        "##### 3. Will the gained insights help creating a positive business impact?\n",
        "Are there any insights that lead to negative growth? Justify with specific reason."
      ],
      "metadata": {
        "id": "JMzcOPDDphqR"
      }
    },
    {
      "cell_type": "markdown",
      "source": [
        "**Understanding the relationship between 'adr' and 'total_stay_in_nights' can inform the design of customer experiences. Offering special amenities or services for guests with longer stays and higher rates could enhance customer satisfaction.**"
      ],
      "metadata": {
        "id": "R4Ka1PC2phqR"
      }
    },
    {
      "cell_type": "markdown",
      "source": [
        "#### Chart - 11"
      ],
      "metadata": {
        "id": "x-EpHcCOp1ci"
      }
    },
    {
      "cell_type": "code",
      "source": [
        "# Chart - 11 visualization code\n",
        "plt.figure(figsize = (12,10), dpi = 100)\n",
        "hotel_wise_meal = hotel_dataset.groupby(['hotel', 'meal'])['meal'].count().unstack()\n",
        "hotel_wise_meal.plot(kind ='bar', figsize = (12,8))\n",
        "hotel_wise_meal\n"
      ],
      "metadata": {
        "id": "mAQTIvtqp1cj"
      },
      "execution_count": null,
      "outputs": []
    },
    {
      "cell_type": "markdown",
      "source": [
        "##### 1. Why did you pick the specific chart?"
      ],
      "metadata": {
        "id": "X_VqEhTip1ck"
      }
    },
    {
      "cell_type": "markdown",
      "source": [
        "**The goal is to compare the distribution of meal types across different hotels, and a bar plot allows for a clear and effective comparison.**"
      ],
      "metadata": {
        "id": "-vsMzt_np1ck"
      }
    },
    {
      "cell_type": "markdown",
      "source": [
        "##### 2. What is/are the insight(s) found from the chart?"
      ],
      "metadata": {
        "id": "8zGJKyg5p1ck"
      }
    },
    {
      "cell_type": "markdown",
      "source": [
        "**As we can see BB is most preferable meals in the both hotels , also we can compare between the other meals**"
      ],
      "metadata": {
        "id": "ZYdMsrqVp1ck"
      }
    },
    {
      "cell_type": "markdown",
      "source": [
        "##### 3. Will the gained insights help creating a positive business impact?\n",
        "Are there any insights that lead to negative growth? Justify with specific reason."
      ],
      "metadata": {
        "id": "PVzmfK_Ep1ck"
      }
    },
    {
      "cell_type": "markdown",
      "source": [
        "**Here we can see BB is more preferable then others meals, Both Hotels can add some delicious foods in BB to attract more customers. And also they have to develope the others meal to attract more customers.**"
      ],
      "metadata": {
        "id": "druuKYZpp1ck"
      }
    },
    {
      "cell_type": "markdown",
      "source": [
        "#### Chart - 12"
      ],
      "metadata": {
        "id": "n3dbpmDWp1ck"
      }
    },
    {
      "cell_type": "code",
      "source": [
        "# Chart - 12 visualization code\n",
        "corr_df = hotel_dataset[['lead_time','previous_cancellations', 'previous_bookings_not_canceled', 'total_guest',\n",
        "                    'booking_changes', 'days_in_waiting_list', 'adr', 'required_car_parking_spaces', 'total_of_special_requests']].corr()\n",
        "f, ax = plt.subplots(figsize=(12, 12))\n",
        "sns.heatmap(corr_df, annot = True, fmt='.2f', annot_kws={'size': 10},  vmax=1, square=True, cmap=\"YlGnBu\")"
      ],
      "metadata": {
        "id": "bwevp1tKp1ck"
      },
      "execution_count": null,
      "outputs": []
    },
    {
      "cell_type": "markdown",
      "source": [
        "##### 1. Why did you pick the specific chart?"
      ],
      "metadata": {
        "id": "ylSl6qgtp1ck"
      }
    },
    {
      "cell_type": "markdown",
      "source": [
        "**To understand the relationsip between different numerical values.**"
      ],
      "metadata": {
        "id": "m2xqNkiQp1ck"
      }
    },
    {
      "cell_type": "markdown",
      "source": [
        "##### 2. What is/are the insight(s) found from the chart?"
      ],
      "metadata": {
        "id": "ZWILFDl5p1ck"
      }
    },
    {
      "cell_type": "markdown",
      "source": [
        "**Highest corelation value between axis is 39% positive & lowest corelation value between the axis is -9% negative**"
      ],
      "metadata": {
        "id": "x-lUsV2mp1ck"
      }
    },
    {
      "cell_type": "markdown",
      "source": [
        "##### 3. Will the gained insights help creating a positive business impact?\n",
        "Are there any insights that lead to negative growth? Justify with specific reason."
      ],
      "metadata": {
        "id": "M7G43BXep1ck"
      }
    },
    {
      "cell_type": "markdown",
      "source": [
        "**Understanding the strength and direction of relationships between different variables allows businesses to identify factors that may influence each other**"
      ],
      "metadata": {
        "id": "5wwDJXsLp1cl"
      }
    },
    {
      "cell_type": "markdown",
      "source": [
        "# **Conclusion**"
      ],
      "metadata": {
        "id": "gCX9965dhzqZ"
      }
    },
    {
      "cell_type": "code",
      "source": [],
      "metadata": {
        "id": "s8TV_-P922V5"
      },
      "execution_count": null,
      "outputs": []
    },
    {
      "cell_type": "markdown",
      "source": [
        "**As per the data we made a conclusion between two hotels.**\n",
        "\n",
        "A. **City Hotel seems to be more preferred among travellers and it also generates more revenue & profit.**\n",
        "\n",
        "B. **Most number of bookings are made in July and August as compared rest of the months.**\n",
        "\n",
        "c. **Room Type A is the most preferred room type among travellers.**\n",
        "\n",
        "D. **Most number of bookings are made from Portugal & Great Britain.**\n",
        "\n",
        "E. **Most of the guest stays for 1-4 days in the hotels.**\n",
        "\n",
        "F. **City Hotel retains more number of guests.**\n",
        "\n",
        "G. **Around one-fourth of the total bookings gets cancelled. More cancellations are from City Hotel.**\n",
        "\n",
        "H. **New guest tends to cancel bookings more than repeated customers.**\n",
        "\n",
        "I. **Lead time, number of days in waiting list or assignation of reserved room to customer does not affect cancellation of bookings.**\n",
        "\n",
        "J. **Corporate has the most percentage of repeated guests while TA/TO has the least whereas in the case of cancelled bookings TA/TO has the most percentage while Corporate has the least.**\n",
        "\n"
      ],
      "metadata": {
        "id": "Fjb1IsQkh3yE"
      }
    },
    {
      "cell_type": "markdown",
      "source": [
        "### ***Hurrah! You have successfully completed your Machine Learning Capstone Project !!!***"
      ],
      "metadata": {
        "id": "gIfDvo9L0UH2"
      }
    },
    {
      "cell_type": "code",
      "source": [],
      "metadata": {
        "id": "TyIAqAkr3Iwy"
      },
      "execution_count": null,
      "outputs": []
    }
  ]
}